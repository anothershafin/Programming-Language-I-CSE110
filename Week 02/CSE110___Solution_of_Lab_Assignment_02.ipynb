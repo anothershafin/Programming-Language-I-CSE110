{
  "nbformat": 4,
  "nbformat_minor": 0,
  "metadata": {
    "colab": {
      "provenance": []
    },
    "kernelspec": {
      "name": "python3",
      "display_name": "Python 3"
    },
    "language_info": {
      "name": "python"
    }
  },
  "cells": [
    {
      "cell_type": "markdown",
      "source": [
        "## **Task 01**\n",
        "Write the Python code of a program that reads two numbers from the user, and prints their sum, product, and difference.\n",
        "\n",
        "Hint: subtract the second number from the first one\n",
        "___\n",
        "Example 1:\n",
        "\n",
        "Sample Input:\n",
        "\n",
        "4\n",
        "\n",
        "5\n",
        "\n",
        "Sample Output:\n",
        "\n",
        "Sum = 9\n",
        "\n",
        "Product = 20\n",
        "\n",
        "Difference = -1\n",
        "___\n",
        "\n",
        "Example 2:\n",
        "\n",
        "Sample Input:\n",
        "\n",
        "30\n",
        "\n",
        "2\n",
        "\n",
        "Sample Output:\n",
        "\n",
        "Sum = 32\n",
        "\n",
        "Product = 60\n",
        "\n",
        "Difference = 28\n",
        "___\n"
      ],
      "metadata": {
        "id": "1kcuEbx9UqDK"
      }
    },
    {
      "cell_type": "code",
      "execution_count": null,
      "metadata": {
        "colab": {
          "base_uri": "https://localhost:8080/"
        },
        "id": "JJfa3LHHUjAN",
        "outputId": "a2f7ac3b-4cae-425c-e469-6a1a4fe33f74"
      },
      "outputs": [
        {
          "output_type": "stream",
          "name": "stdout",
          "text": [
            "Enter the first Number:30\n",
            "Enter the second Number:2\n",
            "Sum = 32\n",
            "Product = 60\n",
            "Difference = 28\n"
          ]
        }
      ],
      "source": [
        "a=int(input(\"Enter the first Number:\"))\n",
        "b=int(input(\"Enter the second Number:\"))\n",
        "print(f\"Sum = {a+b}\")\n",
        "print(f\"Product = {a*b}\")\n",
        "print(f\"Difference = {a-b}\")"
      ]
    },
    {
      "cell_type": "markdown",
      "source": [
        "## **Task 02**\n",
        "Write the Python code of a program that reads the radius of a circle and prints its circumference and area.\n",
        "___\n",
        "hint(1): we may import math and then use math.pi for getting the value of pi.\n",
        "\n",
        "For details, we can read from https://docs.python.org/3/library/math.html\n",
        "\n",
        "hint(2): we can import math and use the math function for making squares with math.pow(number, power) or we can simply use the power operator. For example: S**2.\n",
        "___\n",
        "Example 1:\n",
        "\n",
        "Sample Input:\n",
        "\n",
        "4\n",
        "\n",
        "Sample Output:\n",
        "\n",
        "Area is 50.26548245743669\n",
        "\n",
        "Circumference is 25.132741228718345\n",
        "___\n",
        "Example 2:\n",
        "\n",
        "Sample Input:\n",
        "\n",
        "3.5\n",
        "\n",
        "Sample Output:\n",
        "\n",
        "Area is 38.48451000647496\n",
        "\n",
        "Circumference is 21.991148575128552"
      ],
      "metadata": {
        "id": "0JpEXi3TXLCZ"
      }
    },
    {
      "cell_type": "code",
      "source": [
        "import math\n",
        "radius=float(input(\"Please enter the radius of the circle:\"))\n",
        "circum=2*math.pi*radius\n",
        "area=math.pi*math.pow(radius,2)\n",
        "#or can be used math.pi.r**2\n",
        "print(\"Area is\", area)\n",
        "print(\"Circumference is\", circum)"
      ],
      "metadata": {
        "colab": {
          "base_uri": "https://localhost:8080/"
        },
        "id": "anbeSP6VYEQL",
        "outputId": "b0046059-37df-4a41-ddc2-b27fcc51d06a"
      },
      "execution_count": null,
      "outputs": [
        {
          "output_type": "stream",
          "name": "stdout",
          "text": [
            "Please enter the radius of the circle:3.5\n",
            "Area is 38.48451000647496\n",
            "Circumference is 21.991148575128552\n"
          ]
        }
      ]
    },
    {
      "cell_type": "markdown",
      "source": [
        "## **Task 03**\n",
        "Write the Python code of a program that reads two numbers from the user. The program should then print \"First is greater\" if the first number is greater, \"Second is greater\" if the second number is greater, and \"The numbers are equal\" otherwise.\n",
        "===\n",
        "___\n",
        "Sample Input 1:\n",
        "\n",
        "7\n",
        "\n",
        "3\n",
        "\n",
        "Sample Output 1:\n",
        "\n",
        "First is greater\n",
        "___\n",
        "Sample Input 2:\n",
        "\n",
        "-33\n",
        "\n",
        "-3\n",
        "\n",
        "Sample Output 2:\n",
        "\n",
        "Second is greater\n",
        "___\n",
        "Sample Input 1:\n",
        "\n",
        "11\n",
        "\n",
        "11\n",
        "\n",
        "Sample Output 1:\n",
        "\n",
        "The numbers are equal\n"
      ],
      "metadata": {
        "id": "ZC0_W4WiZ8cO"
      }
    },
    {
      "cell_type": "code",
      "source": [
        "num1=int(input(\"Please enter the first number:\"))\n",
        "num2=int(input(\"Please enter the second number:\"))\n",
        "if(num1>num2):\n",
        "  print(\"First is greater\")\n",
        "elif(num1<num2):\n",
        "  print(\"Second is greater\")\n",
        "else:\n",
        "  print(\"The numbers are equal\")"
      ],
      "metadata": {
        "colab": {
          "base_uri": "https://localhost:8080/"
        },
        "id": "CDewmnX2bC5O",
        "outputId": "88372fb3-9d7d-4e37-ffd0-3a3906a3ab7a"
      },
      "execution_count": null,
      "outputs": [
        {
          "output_type": "stream",
          "name": "stdout",
          "text": [
            "Please enter the first number:11\n",
            "Please enter the second number:11\n",
            "The numbers are equal\n"
          ]
        }
      ]
    },
    {
      "cell_type": "markdown",
      "source": [
        "## **Task 04**\n",
        "Write the Python code of a program that reads two numbers, subtracts the smaller number from the larger one, and prints the result.\n",
        "====\n",
        "Hint: First, we may check which number is greater\n",
        "___\n",
        "Sample Input 1:\n",
        "\n",
        "-40\n",
        "\n",
        "-4\n",
        "\n",
        "Sample Output 1:\n",
        "\n",
        "36\n",
        "\n",
        "___\n",
        "Sample Input 2:\n",
        "\n",
        "6\n",
        "\n",
        "2\n",
        "\n",
        "Sample Output 2:\n",
        "\n",
        "4\n",
        "___\n",
        "Sample Input 3:\n",
        "\n",
        "5\n",
        "\n",
        "5\n",
        "\n",
        "Sample Output 3:\n",
        "\n",
        "0\n"
      ],
      "metadata": {
        "id": "bTCHSHeKbsQN"
      }
    },
    {
      "cell_type": "code",
      "source": [
        "num1=int(input(\"Please enter the first number:\"))\n",
        "num2=int(input(\"Please enter the second number:\"))\n",
        "if(num1>num2):\n",
        "  print(num1-num2)\n",
        "else:\n",
        "  print(num2-num1)"
      ],
      "metadata": {
        "colab": {
          "base_uri": "https://localhost:8080/"
        },
        "id": "g9ftw35BcgJn",
        "outputId": "86f7fcfc-b710-42ea-aa8d-2619f6dec051"
      },
      "execution_count": null,
      "outputs": [
        {
          "output_type": "stream",
          "name": "stdout",
          "text": [
            "Please enter the first number:-40\n",
            "Please enter the second number:-4\n",
            "36\n"
          ]
        }
      ]
    },
    {
      "cell_type": "markdown",
      "source": [
        "## **Task 05**\n",
        "Write the Python code of a program that reads a number, and prints \"The number is even\" or \"The number is odd\", depending on whether the number is even or odd.\n",
        "===\n",
        "hint(1): we may use the modulus (%) operator to check for even or odd\n",
        "hint(2): we can consider the number to be an integer\n",
        "___\n",
        "Sample Input 1:\n",
        "\n",
        "7\n",
        "\n",
        "Sample Output 1:\n",
        "\n",
        "The number is odd\n",
        "___\n",
        "Sample Input 2:\n",
        "\n",
        "10\n",
        "\n",
        "Sample Output 2:\n",
        "\n",
        "The number is even\n",
        "___\n",
        "Sample Input 3:\n",
        "\n",
        "-44\n",
        "\n",
        "Sample Output 3:\n",
        "\n",
        "The number is even\n"
      ],
      "metadata": {
        "id": "YS0-YCmgYFi7"
      }
    },
    {
      "cell_type": "code",
      "source": [
        "num=int(input(\"Please enter a number:\"))\n",
        "if(num%2==0):\n",
        "  print(\"The number is even\")\n",
        "else:\n",
        "  print(\"The number is odd\")"
      ],
      "metadata": {
        "colab": {
          "base_uri": "https://localhost:8080/"
        },
        "id": "I8exJloRYeKk",
        "outputId": "0e05d029-8ab9-4a56-ad50-68c42ea92278"
      },
      "execution_count": null,
      "outputs": [
        {
          "output_type": "stream",
          "name": "stdout",
          "text": [
            "Please enter a number:-44\n",
            "The number is even\n"
          ]
        }
      ]
    },
    {
      "cell_type": "markdown",
      "source": [
        "## **Task 06**\n",
        "Write the Python code of a program that reads an integer as input from the user, and prints the integer if it is a multiple of 2 OR 5 and prints \"Not a multiple of 2 OR 5\" otherwise.\n",
        "==========================================================\n",
        "For example, 2, 4, 5, 6, 8, 10, 12, 14, 15, 16, 18, 20, 22 … i.e. this includes multiples of 2 only, multiples of 5 only and multiples of 2 and 5 both.\n",
        "\n",
        "hint(1): we may use the modulus (%) operator for checking the divisibility\n",
        "\n",
        "hint(2): we can consider the number to be an integer\n",
        "___\n",
        "Sample Input 1:\n",
        "\n",
        "5\n",
        "\n",
        "Sample Output 1:\n",
        "\n",
        "5\n",
        "___\n",
        "Sample Input 2:\n",
        "\n",
        "10\n",
        "\n",
        "Sample Output 2:\n",
        "\n",
        "10\n",
        "___\n",
        "Sample Input 3:\n",
        "\n",
        "3\n",
        "\n",
        "Sample Output 3:\n",
        "\n",
        "Not a multiple of 2 OR 5\n"
      ],
      "metadata": {
        "id": "phXK7ayGZBh1"
      }
    },
    {
      "cell_type": "code",
      "source": [
        "num=int(input(\"Please enter a number:\"))\n",
        "if(num%2==0 or num%5==0):\n",
        "  print(num)\n",
        "else:\n",
        "  print(\"Not a multiple of 2 OR 5\")"
      ],
      "metadata": {
        "colab": {
          "base_uri": "https://localhost:8080/"
        },
        "id": "LU0hPUl7Z848",
        "outputId": "128a7124-69cf-4868-9e41-f8f0401d3010"
      },
      "execution_count": null,
      "outputs": [
        {
          "output_type": "stream",
          "name": "stdout",
          "text": [
            "Please enter a number:3\n",
            "Not a multiple of 2 OR 5\n"
          ]
        }
      ]
    },
    {
      "cell_type": "markdown",
      "source": [
        "## **Task 07**\n",
        "Write the Python code of a program that reads an integer, and prints the integer it is a multiple of either 2 or 5 but not both. If the number is a multiple of 2 and 5 both, then print \"Multiple of 2 and 5 both\". For all other numbers, the program prints \"Not a multiple we want\".\n",
        "==========================================================\n",
        "For example, 2, 4, 5, 6, 8, 12, 14, 15, 16, 18, 22 … i.e. this includes multiples of 2 only and multiples of 5 only, NOT multiples of 2 and 5 both or other numbers.\n",
        "\n",
        "hint(1): we may use the modulus (%) operator for checking the divisibility\n",
        "\n",
        "hint(2): we can consider the number to be an integer\n",
        "___\n",
        "Sample Input 1:\n",
        "\n",
        "6\n",
        "\n",
        "Sample Output 1:\n",
        "\n",
        "6\n",
        "___\n",
        "Sample Input 2:\n",
        "\n",
        "15\n",
        "\n",
        "Sample Output 2:\n",
        "\n",
        "15\n",
        "___\n",
        "Sample Input 3:\n",
        "\n",
        "10\n",
        "\n",
        "Sample Output 3:\n",
        "\n",
        "Multiple of 2 and 5 both\n",
        "___\n",
        "\n",
        "Sample Input 4:\n",
        "\n",
        "17\n",
        "\n",
        "Sample Output 4:\n",
        "\n",
        "Not a multiple we want"
      ],
      "metadata": {
        "id": "Q5TKCTI-aOmn"
      }
    },
    {
      "cell_type": "code",
      "source": [
        "num=int(input(\"Please enter a number:\"))\n",
        "if(num%2==0 and num%5==0):\n",
        "  print(\"Multiple of 2 and 5 both\")\n",
        "elif(num%2==0 or num%5==0):\n",
        "  print(num)\n",
        "else:\n",
        "  print(\"Not a multiple we want\")"
      ],
      "metadata": {
        "id": "78rCMZ_GanAr"
      },
      "execution_count": null,
      "outputs": []
    },
    {
      "cell_type": "markdown",
      "source": [
        "## **Task 08**\n",
        "Task 8\n",
        "Write the Python code of a program that reads an integer, and prints the integer if it is a multiple of 2 AND 5 and prints \"Not multiple of 2 and 5 both\" otherwise.\n",
        "==========================================================\n",
        "For example, 10, 20, 30, 40, 50 … i.e. this only includes numbers which are multiples of both 2 and 5.\n",
        "\n",
        "hint(1): we may use the modulus (%) operator for checking the divisibility\n",
        "\n",
        "hint(2): we can consider the number to be an integer\n",
        "___\n",
        "Sample Input 1:\n",
        "\n",
        "30\n",
        "\n",
        "Sample Output 1:\n",
        "\n",
        "30\n",
        "___\n",
        "Sample Input 2:\n",
        "\n",
        "15\n",
        "\n",
        "Sample Output 2:\n",
        "\n",
        "Not multiple of 2 and 5 both\n",
        "___\n",
        "Sample Input 3:\n",
        "\n",
        "6\n",
        "\n",
        "Sample Output 3:\n",
        "\n",
        "Not multiple of 2 and 5 both\n"
      ],
      "metadata": {
        "id": "lAJsuik1btML"
      }
    },
    {
      "cell_type": "code",
      "source": [
        "num=int(input(\"Please enter a number:\"))\n",
        "if(num%2==0 and num%5==0):\n",
        "  print(num)\n",
        "else:\n",
        "  print(\"Not a multiple of 2 and 5 both\")"
      ],
      "metadata": {
        "id": "IHGZ_jAUcG9w"
      },
      "execution_count": null,
      "outputs": []
    },
    {
      "cell_type": "markdown",
      "source": [
        "## **Task 09**\n",
        "Write the Python code of a program that finds the number of hours, minutes, and seconds in a given number of seconds. The number of seconds is taken as input from the user.\n",
        "==========================================================\n",
        "hint(1): we may consider our user input to be an integer value and use // and % operators to solve the problem\n",
        "\n",
        "hint(2): 1 hour = 60 mins = 3600 seconds and 1 min = 60 seconds\n",
        "___\n",
        "Sample Input 1:\n",
        "\n",
        "10000\n",
        "\n",
        "Sample Output 1:\n",
        "\n",
        "Hours: 2 Minutes: 46 Seconds: 40\n",
        "\n",
        "Explanation:\n",
        "\n",
        "10000 seconds = 10000 // 3600 = 2 hours and 10000 % 3600 = 2800 seconds.\n",
        "\n",
        "Then again, 2800 // 60 = 46 minutes and 2800 % 60 = 40 seconds.\n",
        "And hence we have arrived at our answer.\n",
        "___\n",
        "Sample Input 2:\n",
        "\n",
        "500\n",
        "\n",
        "Sample Output 2:\n",
        "\n",
        "Hours: 0 Minutes: 8 Seconds: 20\n"
      ],
      "metadata": {
        "id": "G1Zr0qYucK7L"
      }
    },
    {
      "cell_type": "code",
      "source": [
        "time=int(input(\"Please enter the time in seconds:\"))\n",
        "hour=time//3600\n",
        "minute=(time%3600)//60\n",
        "second=(time%3600)%60\n",
        "print(\"Hours:\",hour,\"Minutes:\",minute,\"Seconds:\",second)"
      ],
      "metadata": {
        "colab": {
          "base_uri": "https://localhost:8080/"
        },
        "id": "xZcgn5suc8aE",
        "outputId": "61ef5ca9-5de2-4659-cdb3-1c5c40926926"
      },
      "execution_count": null,
      "outputs": [
        {
          "output_type": "stream",
          "name": "stdout",
          "text": [
            "Please enter the time in seconds:10000\n",
            "Hours: 2 Minutes: 46 Seconds: 40\n"
          ]
        }
      ]
    },
    {
      "cell_type": "markdown",
      "source": [
        "## **Task 10**\n",
        "Write a Python program to compute and display a person’s weekly salary as determined by the following conditions:\n",
        "- If the hours worked is less than or equal to 40, then the person receives Tk 200 per hour.\n",
        "- If the hours worked is greater than 40, then the person receives Tk 8000 plus Tk 300 for each hour worked over 40 hours.\n",
        "\n",
        "The program should request the hours worked as an input from the user and display the salary as output. You need to make sure that user input is valid. For example, a person cannot work for -5 hours or more than 168 hours in a week. So, the valid hours range is 0 to 168. For invalid hours, print outputs as given in the samples below.\n",
        "\n",
        "Hint: you can consider the hour (user input) to be an integer\n",
        "___\n",
        "Sample Input 1:\n",
        "\n",
        "100\n",
        "\n",
        "Sample Output 1:\n",
        "\n",
        "26000\n",
        "\n",
        "Explanation: Since, the number of hours worked is 100 > 40, therefore salary =\n",
        "8000 + (100 - 40) * 300 = 26000.\n",
        "___\n",
        "Sample Input 2:\n",
        "\n",
        "30\n",
        "\n",
        "Sample Output 2:\n",
        "\n",
        "6000\n",
        "\n",
        "Explanation: Since, the number of hours worked is 30 < 40, therefore salary = 30 * 200 = 6000.\n",
        "___\n",
        "Sample Input 3:\n",
        "\n",
        "-30\n",
        "\n",
        "Sample Output 3:\n",
        "\n",
        "Hour cannot be negative\n",
        "___\n",
        "Sample Input 4:\n",
        "\n",
        "170\n",
        "\n",
        "Sample Output 4:\n",
        "\n",
        "Impossible to work more than 168 hours weekly\n"
      ],
      "metadata": {
        "id": "ZRJvoMrsY5sD"
      }
    },
    {
      "cell_type": "code",
      "source": [
        "work=int(input(\"Please enter your work-time in hour:\"))\n",
        "if(work<0):\n",
        "  print(\"Hour cannot be negative\")\n",
        "elif(work>168):\n",
        "  print(\"Impossible to work more than 168 hours weekly\")\n",
        "elif(work<=40):\n",
        "  print(200*work)\n",
        "else:\n",
        "  print(8000+(work-40)*300)"
      ],
      "metadata": {
        "colab": {
          "base_uri": "https://localhost:8080/"
        },
        "id": "uIOi0Wu4ZZQP",
        "outputId": "deb96ab6-e406-4538-e429-ebf4bd23b365"
      },
      "execution_count": 4,
      "outputs": [
        {
          "output_type": "stream",
          "name": "stdout",
          "text": [
            "Please enter your work-time in hour:170\n",
            "Impossible to work more than 168 hours weekly\n"
          ]
        }
      ]
    },
    {
      "cell_type": "markdown",
      "source": [
        "## **Task 11**\n",
        "Suppose the following expressions are used to calculate the values of L for different values of S:\n",
        "![image.png](data:image/png;base64,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)\n",
        "\n",
        "Write the Python code of a program that reads a value of S and then calculates the value of L.\n",
        "___\n",
        "hint(1): you can import math and use math function for making squares with math.\n",
        "\n",
        "pow(number, power) or you can simply write S ** 2.\n",
        "\n",
        "hint(2): the value of S(user input) will be an integer\n",
        "___\n",
        "Sample Input 1:\n",
        "\n",
        "120\n",
        "\n",
        "Sample Output 1:\n",
        "\n",
        "2416.2162162162163\n",
        "\n",
        "Explanation: Since S (user input) given here is 120 >= 100, so L = 12000 / (4 + (120 * 120)/14900) = 2416.2162162162163\n",
        "___\n",
        "Sample Input 2:\n",
        "\n",
        "3\n",
        "\n",
        "Sample Output 2:\n",
        "\n",
        "1875\n",
        "\n",
        "Explanation: Since S (user input) given here is 3 < 100, so L = 3000 - 125 * 3 * 3 = 1875"
      ],
      "metadata": {
        "id": "3XWV-MoNgHEG"
      }
    },
    {
      "cell_type": "code",
      "source": [
        "S=int(input(\"Please enter a number:\"))\n",
        "if(S<100):\n",
        "  L=3000-125*(S**2)\n",
        "  print(L)\n",
        "else:\n",
        "  L=12000/(4+S**2/14900)\n",
        "  print(L)"
      ],
      "metadata": {
        "colab": {
          "base_uri": "https://localhost:8080/"
        },
        "id": "hfPRmsSng981",
        "outputId": "f70f1ce4-d489-4b55-97b0-38e77e6e14a6"
      },
      "execution_count": 6,
      "outputs": [
        {
          "output_type": "stream",
          "name": "stdout",
          "text": [
            "Please enter a number:120\n",
            "2416.2162162162163\n"
          ]
        }
      ]
    },
    {
      "cell_type": "markdown",
      "source": [
        "## **Task 12**\n",
        "Write a Python program that takes an hour from the user as input and tells it is time for which meal.\n",
        "- The user will input the number in a 24-hour format. So, 14 means 2 pm, 3 means 3 am, 18 means 6 pm, etc.\n",
        "- Valid inputs are 0 to 23. Inputs less than 0 or more than 23 are invalid in 24-hour clock.\n",
        "- Assume, input will be whole numbers. For example, 3.5 will NOT be given as input.\n",
        "___\n",
        "Input range: Message to be printed\n",
        "\n",
        "4 to 6: Breakfast\n",
        "\n",
        "12 to 13: Lunch\n",
        "\n",
        "16 to 17: Snacks\n",
        "\n",
        "19 to 20: Dinner\n",
        "\n",
        "For all other valid inputs, say \"Patience is a virtue\"\n",
        "\n",
        "For all other invalid inputs, say \"Wrong time\"\n",
        "___\n",
        "For example,\n",
        "\n",
        "If the user enters 4, your program should print the message \"Breakfast\".\n",
        "\n",
        "If the user enters 5, your program should print the message \"Breakfast\".\n",
        "\n",
        "If the user enters 6, your program should print the message \"Breakfast\".\n",
        "\n",
        "If the user enters 0, your program should print the message \"Patience is a virtue\".\n",
        "\n",
        "If the user enters 1, your program should print the message \"Patience is a virtue\".\n",
        "\n",
        "If the user enters 18, your program should print the message \"Patience is a virtue\".\n",
        "\n",
        "If the user enters 23, your program should print the message \"Patience is a virtue\".\n",
        "\n",
        "If the user enters 24, your program should print the message \"Wrong Time\".\n",
        "\n",
        "If the user enters -1, your program should print the message \"Wrong Time\".\n",
        "\n",
        "If the user enters 27, your program should print the message \"Wrong time\".\n",
        "___\n",
        "Hints: You can use nested conditionals (if-else) or chained conditions (if-elif-else) to solve this problem.\n"
      ],
      "metadata": {
        "id": "iuvLde15icu8"
      }
    },
    {
      "cell_type": "code",
      "source": [
        "time=int(input(\"Please enter the time in 24-hour format:\"))\n",
        "if(time<0 or time>23):\n",
        "  print(\"Wrong time\")\n",
        "elif(time>=4 and time<=6):\n",
        "  print(\"Breakfast\")\n",
        "elif(time>=12 and time<=13):\n",
        "  print(\"Lunch\")\n",
        "elif(time>=16 and time<=17):\n",
        "  print(\"Snacks\")\n",
        "elif(time>=19 and time<=20):\n",
        "  print(\"Dinner\")\n",
        "else:\n",
        "  print(\"Patience is a virtue\")"
      ],
      "metadata": {
        "colab": {
          "base_uri": "https://localhost:8080/"
        },
        "id": "boJYrEiJifim",
        "outputId": "0383dd7e-afbf-4e59-e5a7-d994bf4aaed3"
      },
      "execution_count": 8,
      "outputs": [
        {
          "output_type": "stream",
          "name": "stdout",
          "text": [
            "Please enter the time in 24-hour format:24\n",
            "Wrong time\n"
          ]
        }
      ]
    },
    {
      "cell_type": "markdown",
      "source": [
        "## **Task 13**\n",
        "Write the Python code of a program that reads a student’s mark for a single subject, and prints out the corresponding grade for that mark. The mark ranges and corresponding grades are shown in the table below. You need to make sure that the mark is valid. For example, a student cannot receive -5 or 110 marks. So, the valid marks range from 0 to 100.\n",
        "\n",
        "hint(1): you can consider the number to be an integer\n",
        "\n",
        "hint(2): this problem can be solved in two ways: top-down (starts from A) and bottom-up (starts from F)\n",
        "\n",
        "![image.png](data:image/png;base64,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)"
      ],
      "metadata": {
        "id": "gVQf6-IQjbD-"
      }
    },
    {
      "cell_type": "code",
      "source": [
        "mark=int(input(\"Enter your marks:\"))\n",
        "if(mark<0 or mark>100):\n",
        "  print(\"Invalid\")\n",
        "elif(mark>=90 and mark<=100):\n",
        "  print(\"A\")\n",
        "elif(mark>=80 and mark<=89):\n",
        "  print(\"B\")\n",
        "elif(mark>=70 and mark<=79):\n",
        "  print(\"C\")\n",
        "elif(mark>=60 and mark<=69):\n",
        "  print(\"D\")\n",
        "elif(mark>=50 and mark<=59):\n",
        "  print(\"E\")\n",
        "else:\n",
        "  print(\"F\")"
      ],
      "metadata": {
        "colab": {
          "base_uri": "https://localhost:8080/"
        },
        "id": "6GKzYmP-jr85",
        "outputId": "3ba32bb4-db13-41d2-c10c-3496b8b01e7b"
      },
      "execution_count": 10,
      "outputs": [
        {
          "output_type": "stream",
          "name": "stdout",
          "text": [
            "Enter your marks:98\n",
            "A\n"
          ]
        }
      ]
    },
    {
      "cell_type": "markdown",
      "source": [
        "## **Task 14**\n",
        "Suppose, your friend is building an automated car called “Besla”. He needs to fix the programming of the car so that it runs at a proper speed. Now, write a python program that takes 2 inputs (distance in meters and time in seconds). The program should then print the velocity in kilometers per hour of that car. Also, it should print whether the car is working properly based on the following chart.\n",
        "\n",
        "![image.png](data:image/png;base64,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)\n",
        "\n",
        "Sample Input 1:\n",
        "\n",
        "160000\n",
        "\n",
        "7200\n",
        "\n",
        "Sample Output 1:\n",
        "\n",
        "80.0 km/h\n",
        "\n",
        "Velocity is okay. The car is ready!\n",
        "\n",
        "Explanation: After the conversion of distance and time, the velocity is (160/2) km/h = 80 km/h. So the velocity is okay\n",
        "___\n",
        "Sample Input 2:\n",
        "\n",
        "25400\n",
        "\n",
        "3600\n",
        "\n",
        "Sample Output 2:\n",
        "\n",
        "25.4 km/h\n",
        "\n",
        "Too slow. Needs more changes.\n",
        "\n",
        "Explanation: After the conversion of distance and time, the velocity is (25.4/1) km/h = 25.4 km/h. So the speed is too slow.\n"
      ],
      "metadata": {
        "id": "4HHDNFy4m1rZ"
      }
    },
    {
      "cell_type": "code",
      "source": [
        "dis=int(input(\"Enter the distance in meters\"))\n",
        "time=int(input(\"Enter the time in seconds\"))\n",
        "vel=(dis/time)*3.6\n",
        "print(vel,\"km/h\")\n",
        "if(vel<60):\n",
        "  print(\"Too slow. Needs more changes.\")\n",
        "elif(vel>=60 and vel <=90):\n",
        "  print(\"Velocity is okay. The car is ready!\")\n",
        "elif(vel>90):\n",
        "  print(\"Too fast. Only a few changes should suffice.\")\n",
        "else:\n",
        "  print(\"Invalid Input\")"
      ],
      "metadata": {
        "colab": {
          "base_uri": "https://localhost:8080/"
        },
        "id": "Mifpa-GcnLqS",
        "outputId": "a5561e40-e9f7-4a26-85a3-450c834906e6"
      },
      "execution_count": 12,
      "outputs": [
        {
          "output_type": "stream",
          "name": "stdout",
          "text": [
            "Enter the distance in meters25400\n",
            "Enter the time in seconds3600\n",
            "25.4 km/h\n",
            "Too slow. Needs more changes.\n"
          ]
        }
      ]
    },
    {
      "cell_type": "markdown",
      "source": [
        "## **Task 15**\n",
        "Write a python program that takes the CGPA and no of credits completed by a student and prints whether the student is eligible for a waiver and of what percentage.\n",
        "\n",
        "To be eligible for a waiver, a student must have completed at least 30 credits and earned a CGPA greater or equal to 3.8. If not, please print \"The student is not eligible for a waiver\".\n",
        "\n",
        "![image.png](data:image/png;base64,iVBORw0KGgoAAAANSUhEUgAAARgAAAFACAYAAABnU2MWAAAQAElEQVR4Aeyd68uVxfrH5+r97vwq+kWovYj9ouhgstEgIbWCMJKdVoRQWNomKEo7GBHZQTtBlJZbQaJS0zBk5/YACilCapJU+CIVsbavPKT+Af7WZ1bXctb9rNP9POt2rXU/343XPXPPXDNzzfea+c7hXrvnkvOV//373/+uPPVPCAgBIdBdBC4J+p8QEAJCoCAERDAFAatqhYAQCOGSFStWCAchUEoE1KneI3DJE088ERAzC2YSM2FgJgzMhIFZfgyylFZ3RKpc7wTJ+b7BAGfJH/3jD/mitS8Yr1mpI5hspt6FgBAQAiNBQAQzEvRalFWWEBACIYhgNAqEgBAoDAERTGHQqmIhIAREMBoDQkAI5EMgh7YIJgdYUhUCQiAfAiKYfHhJWwgIgRwIiGBygCVVISAE8iEggsmHl7R7jYDaHygERDAD5S4ZKwQGCwERzGD5S9YKgYFCQAQzUO6SsUJgsBAQweTxl3SFgBDIhYAIJhdcUhYCQiAPAiKYPGhJVwgIgVwIiGBywSVlIVBWBIrplwimGFxVqxAQAhUERDAVEPRPCAiBYhAQwRSDq2oVAkKggoAIpgKC/vUaAbVfVgREMGX1rPolBPoAARFMHzhBJgiBsiIggimrZ9UvIdAHCIhgQh94QSYIgZIi0FOCmTZt2pC/JrlkyZII9Zo1a8KuXbtiPPtoVG7evHlRjXIIL9RlZkPaMLuQhl47GTduXPD62+le7PxmfcSORjiZWXB80DG7gEUzvNHLypEjR2q45imXrUfv+RAAd3yer1TvtHtCMABkZmHLli1h7ty5dX9JESjMLMyaNYtonaTlFi9eXFfuzjvvjAM+LTd//vyoM3Xq1Fo9/tf5xo4dG9PM6idcTEweTJ7Dhw+HZcuWJan9E6WPq1evrjOIPpKwefPmsHPnTqI1IW/mzJl17+BD+sSJE2vp7SLHjx9vp6L8AhCYMmVKAbUWV+VFJxhIYsGCBbFHkMTSpUtj3B9MGAa7v3uYLYee5xEyaSAC4p3I1q1ba2oLFy6sxbORRYsW1ZLSlb+W2AcR+g5JuClg5XFIAxL39zSPNFZEwrxCvfgJIZ63vPTzI8BOOs8YDyHkb6TLJS4qwTCYnVzYQWRJIu0b5OPvaTnSmpUbM2ZMyK7m6LeTZk6jXXZZXr4VEblOr8LZs2fXml6+fHktTuThhx8miOL4x5fK47333gtp2UpS/AcRmV04PvEeMyoPdnVmF/IgXvLNLqSZWQA/xKyazpGtUrz2z6yabmaB8p5B3OxCHnV4WrYOL8MR1uxCGdc3s9BJGSav10V7ZvV1pWnEXTdtx6zxbtisvi4vm7UZHM2quqnNtGdmwccpPjSrbytrB+/ejoekmVXrN6sPyXO91A6zqh89L294UQmGwewGttvqQSK+Mq5fv96LhXSlriUmEVZzJElqGE23+JBdIyXahbA8HwczuRrp9jqNPjezc/fu3cHzsJMBRIhw9KMscRcGNyTF7sSPWAxqL4dfwMX1CfFXuiiQD+Ej4IbfOLKh6xMGm2gDXer3QU5d6a4LPxw9epSi4dChQzHMPtgJ00aaTt2ksUjQpzSPd/pO/9DDRicZbCY91We8UhdpPnYgCOym35QnjyO6j5F2/cza/P3339dIBJsdD9pL7aE9bHa/0ZdW/sIutzXFnHQE28GcOG3SB2+DPlOGvpCfVy4qwaTHkuuvv75jW7dv317Txfm1lxFE0lV71apVDWti8ODEOXPm1PK/+uqrWrzfIs3sZHKmRz3vL4SRTmT6w0BicDPoyL/mmmtIjnLs2LEYNnswSBmM5Ke7PQiCyUQ6wmAndHuvvfZaXgOTJEYyD+ynPIPdSSCjMuQVW0h0P9Mn+kYa/eIdWyFL0ojTZycH0lwYBxCb1wUm6EFQ6MyYMSMwLrGPd5e8/aSPXpaQfhO6jcSzQp/oC7bTL2xzndRfbitESf748eMJouAfItRFX4nTJ0L6Reg6xPPIRSWYPIYVpWtW3RriEAYVK0EjB+IsWBw7HGziOApHEO83ydqJffSDC3CIkneEAUkfIJr0+EQeAwpciPvEJ96pOGkcPny49hWQiUK9XgftE2cwm1mYNGkSr3H1xq74kjzcRnZASJLVNpr2Yc+ePVGfnQIRxoDZhfFAGrs9wlSchMGQ8UJfGulhG/k+nvL2M22z0zi2jMRfaTuOD2nUaWa1jxvpIk9+p3JRCSZdfRh0nRoJiK6bHYBs6cyqg8TsQpi25WUJGQAurEqkNRJWYJ+wtO+DDN3hsjllixTsTFdRyIXJxMSg3bQPHFfpv08G8l1IByN2aww0T+/EZ44ZZSjPSg/B8Y6k/sMe2kmFPqCXSroqp+nDjac2pG0T951PWnej3XY7LNI2Ou1n2maeeCf+wgbq9FNESibus3THw5EMPFwgT8rnlYtKML7FxEjvKPF24isYer4qEEcYEICQTizO9IBO/nCEScHqxuQyq5IWOxevq9lW3vN7GaYYQ5Lp5EhxpD++28jaS//NLOAjcMjmt3qHINwXlIdknOCy5dJJmM27WO/DtSHFlTuSVvYOt41WdaZ5nfiL4xfzAn+aVX8Gwvhm7uCztD7if/zxB8GI5aISDAPNBx8dZYVt1gM/v5LPKusMzHurcuSPVJgUWQbHETiEutvZjk6vBIxTO311wh5w9Dze0zzeESaDH1nSexvyOhUnOXDKlmEwuw0sFrSX1enmezpR/N5h8uTJtSaGuxv9xz/+UauD8VJ7+StysfoJfp36i8tbxrFLdhFO+8Tx+a+ujCi4qASDpWy1fIDRYY44pLsAmJmFdLUlDwZ2kqFcG5KhyLAEe7CByZitIJ1w2IBeVqcf3n1nApkz0FObvA+N8tBLt86N3klrJ5Cc6zz//PMerYVuAwnpQtLsWIteXsGPlPGJkvaXXS95CPdA7kfKdDquGB/USR3sBtlFEKcOhHg3+5k9JtIGdnfqL740YZNZdUdudiH0Pqd9gvw9nb6lfqKeTuWiEwyGwZywKHEcbHahs9xyk0dnyU8FkiEPxzLBzS6UAxAuZcn3AY4TzKq/GPZ6zJr/LoIBjj3UZVb/2wwcRJteDyFESRvE+0l8Z8IRKWuXY+O7jGb5pNNf7nDoJ+9MJPrLgCOPNIQ4acRdWAzwU5bgyMcGtuvEHWuz6pGMNNqgLeII7WfrJ72dmFV9jx0sbKk+48Tfqd/M4iu2MXF9V0AiY6LRBKNO6kYHfbNqHU5g1NWqn9RJ/ymPMP6whTgCBmBBHBwZ38Sxh5A02iCO4IdG/iKvlVDO8U37RLqZBYiSudeqjmZ5PSEYNwYnZwXy8fxmISBky/HujvVyvJOeFcq7ThrSdqpLec+nTJrn8VTHdXsdMvCwrxFJYxt56cAkLRXyXRhYKS70l3o930PS0jooB2ZpWhqnfS/rIXajQxue5mG2fvRaSVpHMzu8bg8pQ53Y4Wke0h/yskLdrkPodbheq35SJ2VcUpw9La2PeKN0TyOkzrQeymALdqbkRVoq6VESXepy4T3VzRPvKcHkMVS6QkAIVBEYzpPdkZ8OnDgIG92TDaf+ZmVEMM2QUboQKBECEAlf9bJd4pKbnQ07rWxeN95FMN1AUXX0HIHsfYZZ/f9Xp+cG9tgA362YWfyvDphVQ37Pw5GqKPNEMEUhq3ovKgLcPTCJUilqVb6oHetiYyk2Hge3LjYxpCoRzBBIlNAKAeUJgTwIiGDyoCVdISAEciEggskFl5SFgBDIg4AIJg9a0hUCQiAXAgNFMLl6JmUhIAR6joAIpucukAFCoLwIiGDK61v1TAj0HAERTM9dIAOEQAihpCCIYErqWHVLCPQDAiKYfvCCbBACJUVABFNSx6pbQqAfEBDB9IMXem2D2hcCBSEggikIWFUrBIRACCIYjQIhIAQKQ0AEUxi0qlgICIHeE4x8IASEQGkRqCMYM6v7r12Z6d2sdxgw6sx6176Z2jYTBmadYcB4zUodwfh/5Urh+dAPGOCsfrBDNvTHeOh3PzBes1JHMNlMvQsBITASBFRWBKMxIASEQGEIiGAKg1YVCwEhIILRGBACQqAwBEQwhUHb64rVvhDoPQIimN77QBYIgdIiIIIprWvVMSHQewREML33gSwQAqVFoCCCKS1e6pgQEAI5EBDB5ABLqkJACORDQASTDy9pCwEhkAMBEUwOsKQqBEIIAiEHAiKYHGBJVQgIgXwIiGDy4SVtISAEciAggskBllSFgBDIh4AIJh9evdZW+0JgoBAQwQyUu2SsEBgsBEQwg+UvWSsEBgoBEcxAuUvGCoHBQiAPwQxWz2StEBACPUdABNNzF8gAIVBeBEQw5fWteiYEeo6ACKbnLpAB/YCAbCgGARFMMbiqViEgBCoIDItgPvvsszBu3Lj4VyAJN23aVKmq/b8DBw6EadOmxXJmFuOkZUuePHkyzJw5M+pdeeWVgfayOiN9P3LkSK0NMwvz5s0LtNtJvfSXfptV/+Jdo7LURTr2mzXvayfttdOhrVdeeSV4W9i2Zs2ahsXQdT2zqv1LlixpqFvWxGbYlLW/vexXboLBOceOHQurVq0Kq1evjrbfd999gQkbX5o8yL/rrrvCAw88UPuriZMnTw6kkefFmAB33HFHnCwnTpwIO3bsCC+99FLo5iSgjffeey9Mnz497Ny5M8ydOzcsW7YsvPrqq25G0xByefTRRwP95y/tYeOpU6ciWaaFIFLef/vtt4AOcfraiFDJG4k8/fTT4ccffwwvvvhiePnllwP2zJo1qyExf/DBB7G/ixcvDi6PP/74SJofuLILFy4cOJsH1eDcBENH33zzzTBx4sS4A/joo49ICsePH49hs8e2bdvC6dOnw5NPPllTmT9/fkxLyzLJDx8+HN54441w1VVXhZtuuim8/fbbYcGCBW1JrFZxm8gPP/wQ62eXRD+WLl0abrvtto7q//zzz8P48eNj/2kGG//1r3+Fffv28RoFEubd+4DOl19+GftKP6JS8hhJFHKGuDZv3hzAE99AytT57rvvEtQEXbBFB10X7KsplTzCrhIMSt7NvuleboJhUqbWnz17NowdOzbceOONafKQ+P/93//FNCZfjFQeDPgrrrgiXHPNNZW36j/yp06dGsmlmhLChAkTYnT9+vUxHOnj3nvvrauf+iA/dlfEWwl93bNnT0h3In/88UckKC/37bffxmg6cYnTry1btsS8bj3GjBlTR9rUCynTFjsZ3l3Yta1duzawu+LYyU7O85qF9NOPX+jjfzOLR2R2c2k58pnAZhaPt+iShg6+TuvBBo5qu3btIjseTylLmlnjIyXtcfwzq7bPWImFKw/i1MlOF5uJm1XrcRton51qRT3aZ2ZEJQUikJtg3BYGDM58//33wzfffDNkwrqeh0xqBj1bd8pRngHFasskQY/BxkS/9dZbea0JE4aX7du3E3RVGLQMxoceemjIRG3U0HPPPReT2TVQFps5LrGDiBmVGdtHTgAAEABJREFUx59//ll5Dv3HkZBUyhAWLUzwtI3rr78+0E8I8qmnngocRZmMqU42fu7cuXj8wi8crx577LF4NIa80qMxkxgc8RVHR46eW7duDY888kisknrYOVDPypUrwzPPPBMXJhYoL4siR0r0sPHBBx8kKQoE8tprrwXq5Mg5ZcqUwFgCS8pfeumlAfLev39/PBpyDOIISJovTOzcSKNCbESIS4pDYNgEw0rOdp+jwNdffx1XoHZmckzgvoNyHElwNgMyW+6yyy7LJhXyDtExSRiErOwM1nYNsROhz/Sfss8++2ygX6R72ZQwPY3w6NGjBOFvf/tbDIt6MOEOHToUnn/++bomOBIxUSGHTz/9NN7VMInRr1NMXjhCOjFCriwUENfGjRujFrsiIkzi22+/vUbSlMPXYAuJ4edbbrkF1TBjxoxAPXv37o0hZSEejqrgCH4QCHbGApUHixE+Ig8djp+V5PDxxx/HxY36eMcv1EP79Je0M2fOEEh6gMAlw20T9meVYlfy1ltvBVa3Tupi0EAs6LIL6GRSo1uEMABZDbEHu+6///6O7mFYjRnIXKhCNqzc7MjcRr9ngnw8nd0Oqy9HQiab6xYRskNYtGhRYDI2qx8bv/jii8BugfuxZnppOhPb35nA9MX7t2HDhnhRbma14wfjAv2DBw8S1CRrF2U5+tQUKhEnwko0MEYgIDA3q9Z/9dVXk1V390VCo8WpiJ0vbUnaIzDsHQxVM8g4GuB4P9uS3khYJZmIfBFiYnM0otykSZPq7jMale0kzaw68MyqIW11Uo5Jgz2segzidpON1fiJJ54In3zySWDL/d1338VJyopLH2kTAiGd+ugjK/vvv/8e9Vj90SlKsO+6666LF/Dt2mDVZyfJV8F2uo3yuexO0yFqFp6sdKvP2Xp5Z6eW2qB4fyEwIoLxrsyZMyd+Vvb3RiHbYNKZfB46OXHEIg3CYlXMrjisYOT7Vp14VhjcqcyePTur0vLdJ0GjFTAtyBctyARiIp1JClmyE+DrFGkI6Qx+JgFHAbbp9C17bEG3WwK5/O9//+uIXLxN+tGuz66bDZ1QPX3dunUerYXouP9qiQ0i3Llkk9kdpWXZBWZ1GqVldfTeOwS6QjBMHiZdq26gw4qe6jC42Rqn6Ux0BhsD03V3794do5zdY6TBg11IKtTTQK1pkreXXZWzBbjATe0l30mTC0ves8J2n3snjiTZ40FWd7jvTi4QW6d10GekFa7N6mLyczx0IucLHO/0NS3D0bndF0YWDjDlTiwty/0Oiw4COXPJi72ugw2//PKLvw4NldJzBHIRDA7l6MFAII71fO7kbsEv3UhjEPC5EV3eEe5qWOW5rCOfNAYjZPLwww/zGsXr4fcwJLCCvfPOO/FHYd2anNgPAfnqR1+wlR8Opm2gZ2bxDgBbECYSx0H6zTt9QY8JcPfdd5MUhXTqp176zH1VnskfK+nwAUYQGJMNW1xo1+0khMyxiWrpMz/QW7FiRbwkJa2dUB/9Qrh/4ngFjpSDpDgO8mWHPmMDIbsjFhJ0+MJDiC2ELvzQD/zoA2142TvvvNNV4m+hILAbbrgh8LkZYVGjLEoQLGG6+8VO0jwkjj2EYEYZcOBdUgwCuQjGncNAYDBxt8DOhKOODyI3E4K5/PLL/TX+YI5JxnGBCzozC3zi5msEK5QrUg9HDhxvZoEVkmMJuxPXGWnIHQWkyFcg7GSyfPjhh0OOFvSXgZ+2x+UoX2D4EZuZBfrCxGHwYzu6TBDSWXFZnfn0mvYRnW4JhME9Fl9r8EsqECETn7Ym/PVbIu8zuwMuYX33hU4nQr8QcMPvXoa+gymfwbGFRYG+u98gG74Coc8ncjAijlAWn7MIYfPy5cuj35280HHcaRe7+eWy/zwCsrj55ptRi5+qzaqLAnaSiG/MjGj8ggUxcqHP5XO6oEQFPbqKQC6CYSAwqLhXQCALBhDpqVW8c//ADiVNZ5JRhrIIcdJSHeIMem+HehhcpHdLGLh8NcIGQuxsZAftkp/NIx27KI9QPh2oYEI6/SMOHt2yPVsPuyLaaibeNpi6zfSJS+3U5my9jd4p4+0Q97pdl/rAAh3aoO+e5/4kD0nz0ME+18FOfER6Kinu6FKGfPxDnak0SkMXm/EL9jVqAx1J9xDIRTDda3YU1KQuCgEhEEQwGgRtEfB7DY6tbZWlIAQSBEQwCRiKDkXAzOK9Bjncu6V3J6RJhEArBEQwrdBRXkjvNYhn704E0WhEoPM+i2A6x0qaQkAI5ERABJMTMKkLASHQOQIimM6xkqYQEAI5ERDB5ARM6r1GQO0PEgIimEHylmwVAgOGgAhmwBwmc4XAICEgghkkb8lWITBgCIhgcjlMykJACORBQASTBy3pCgEhkAsBEUwuuKQsBIRAHgREMHnQkq4QKC8ChfRMBFMIrKpUCAgBEBDBgIJECAiBQhAQwRQCqyoVAkIABEQwoCDpNQJqv6QIiGBK6lh1Swj0AwIimH7wgmwQAiVFQARTUseqW0KgHxAQwYTQD36QDUKglAiIYErpVnVKCPQHAiKY/vCDrBACpURABFNKt6pTQqCKQK+fIphee0DtC4ESIyCCKbFz1TUh0GsERDC99oDaFwIlRkAEU2Ln9rpral8IiGA0BoSAECgMARFMYdCqYiEgBEQwGgNCQAgUhkBpCaYwxFSxEBACHSMggukYKikKASGQFwERTF7EpC8EhEDHCIhgOoZKikKgTxAYIDPqCMbMgpnErD8wYByZ9YctZrLDTBiYNceA8ZqVOoI5f/58kPQPBjhL/ugff8gXrX3BeM1KHcFkM/UuBISAEBgJAiKYkaA3Gsuqz0IgBwIimBxgSVUICIF8CIhg8uElbSEgBHIgIILJAZZUhYAQyIfAYBFMvr5JWwgIgR4jIILpsQPUvBAoMwIimDJ7V30TAj1GQATTYweoeSFQRaCcTxFMOf2qXgmBvkBABNMXbpARQqCcCIhgyulX9UoI9AUCIpi+cEOvjVD7QqAYBEQwxeCqWoWAEKggIIKpgKB/QkAIFIOACKYYXFWrEBACFQT6gGAqVuifEBACpURABFNKt6pTQqA/EBDB9IcfZIUQKCUCIphSulWd6hMERr0ZIphRPwQEgBAoDgERTHHYqmYhMOoREMGM+iEgAIRAcQiIYIrDttc1q30h0HMEhkUwn332WRg3blz8K5CEmzZt6qgjBw4cCDNnzozlzCzMmzcvnDx5ckhZ0lzvyiuvDLQ3RGmECUeOHOnIlkbN0N/bb7899gP7lixZ0kitLm3atGkBqUvs8gt2mF34y3vYBpZpM2vWrKn5DnvAIc0fDXEwGA397Ic+5iYYnHPs2LGwatWqsHr16tiH++67L7QbqOTfddddAeEv5P30009h69atcdKlk4D4HXfcEZgcJ06cCDt27AgvvfRSYPLExrrwoI333nsvTJ8+PezcuTPMnTs3LFu2LLz66qtta4dcHn300fDhhx/Gv4L5xRdfhAULFkSybFYYgtyyZUuz7K6kg+/27dvD4sWLa4JtV111Va1+7IDUV1V8hw/GjBkTbrvttoYkXytUwsjChQtL2Kv+7FJugqEbb775Zpg4cWLcAXz00UckhePHj8ew2YMJPXbs2PDkk09GlZtuuilQdt++fWHlypUxjQeT/PDhw+GNN94ITA703n777TiJmUTojFR++OGHWD+7JPqxdOnSONE6qf+ZZ56JhEQ57Lj33nvDyy+/HAlq165dJNUJuzakLrGAF/CFXObPnx9csM2bom9PPfVUne30m3wwJxwNAsEyvkZDX/uhj7kJhkmZGn727NkAcdx4441p8pA4Ox8II83wCcDK6+noTZ06NZKLp02YMCFG169fH8ORPmg3a8vp06fDAw880LJqiILBedlll9Xp3XPPPfF99+7dMfQHOyXIEbL0tCJCyIMd2IMPPhh3Uo2Ibtu2bbFptzW+VB5TpkyJ5FiJNvxHn1955ZW4o6Q/+N/M4jGL3VxaiHwmsFn1mIYuaehgY1oPxzN2qW4repQlzcwC+bRNWRfa40huVm2fseJ5xCnDTpdyxM2q9VA3erQPTsTNqjYSlxSHQG6CcVMYMDjz/fffD998800dIbhOGjKB03ePQyZ+fGCwoXfrrbd6dgzZxRBJiYj3bgiDlsH40EMP1XZXzeo9d+5cwyzfzWTt++CDD+LxLktmDSsZQSK7R3ZRV1xxRSSLSZMmBSZTSP63YcOG+JZdCG655ZaYDvYxknnQ5x9//DHgF/rz2GOPxaPxqVOnQno0ZhKDI77i+MXRkyPwI488EmukHsiZetixshNkYWKB8rIo/vbbbwG9PXv2BAiTNAQCee211+KxmqMzxDhr1qyA3ZS/9NJLA+No//798c6OYxA7OtJ8YWLnTRr1YSNCXFIcAsMmGAYHdw8ccb7++uu253j0GTQMhrQ7hw4dCkyMNC27Q0jzuhmHIJkkDMK1a9fGwdqq/muuuSZmZ4kEsiXj8ssvJ4gCcdEPJlxMKPABwTF59u7dGycnpP3WW2/FiZZtNi/ZUffkyZNjNc8991xg98fOZOPGjTGNoxkRJjEX334Ephx3W2DLjgIcnMxmzJgR68Fe6qMsxMORDfu4G4JAIDHqRtjd4CPy0PFd4ccffxwXN+pBj3FGPbTPUZG0M2fOEEh6gMCwCQb2Z5Xywczq1sr+F154Ia6CnPchGYRVidWKwdSqbFF5DEBWQ1Y1BvP999/f8rKawc1Oh0nDhSl2QS6syMS5wCYk7fPPP493IbxfTMHGzZs3xzuld999t6tNM7G9QiYwCwN9JY0dEscPs+rRw8wCJEfewYMHCWqCjbWXSoSyHH0q0do/xgY+IYFdCgQEeZhV67/66qvJCixwMfLXA1L/K1oLsgtCLWOYERXrHIFLOlcdqskgYzDjeAbXUI0LKaxsTGQGDoPj6aefDj///HNU4GtOjIzgYVYdeGbVkO16J9UxaSAaVj0Gsd9VNCv7ySefxItSLky5L2AFhyTRv/vuuwnipa9PrpjQg8frr78edzNFNj1+/Pi66vEvC09W2PHUKQ7zJVsv7+yAh1mdil0EBC7pRhtz5syJl4Dt6mIisyoxMCAazvZ8JvUBCGGxKmZXHFYw6vatOvGsMLhTmT17dlal5bvb0GgFTAtCSJARfaAvbNW5a+AOhJUZW9nKQ7pmVbIzs1gFOx8za3sUi8ojfHAnAZZejV9gY5+nETrWYM97HmEXmuqvW7cufY1xdLJtxozMg+NzJinuJtOyHDuzOo3Ssjp67x0CXSEYzrh5jzmcqRlUTMa0+0x00hmYnu5fZzi7e1o2hLxSoZ6sTqt3by+7Krcrw04JMuEOBF0uUTk6ZoU8yJR0dHgvUn799dfw4osv1prw3ZVjSQZ9BmvuSnjPIxyNOJ44kUNgvLNwpPVwdG7XXxYOdo/ciaVl2R1CfAhkySUvNrsONvzyyy/+qrAPEchFMJ9bPD8AABAASURBVDiUCcVAIE5/uItgBWcl5x1hEHB8QJd3F8owADlvc8HHgGTV93xCr4e7Gt5Zwd55553447GsLvnDEeyHgHz1wy5s5YeDaRvomQ3dcXBpSd4NN9wQuNjkmOh2sMNhQmSFfM8j5H040qgMWPPViH6Qj0/4MSSEyztCv9jhgSX24yPH2DFHr5WwKFAOYccGYYIjZSB/iJYvO2AJPoTsCL2/fOFBF/sIXR5//PF40c9HA9rwsnfeeaerBD73M17AnL4iLGqURYk+EfqOjDh2piFx7CFkXFHGMSNN0n0EchGMO4eBwGBicrF7YYL5IHITGfTpVxUGG2X4FemiRYsCBMOgd30PqYdf7+J4MwuskAyudLK47nDD6667Ln7u5AsSdjJZ+GWuTxavl/6ycvo7oZnFXyMzWfiSwnEJm8nrlbAD4c4HfPEJdvuOKrUJDNnVcBnNPRhHPCZtHvsph4Abfvf6qYOFxi/BITJ2JrSJDv733Sr3V5AI6Qhl8TkfDLjLW758efR76g/u8D799NN4FKevHK/95xGQxc0330xV8VO1WXVRwE4S6aNZ9ZgKEUKMXOhz+dxoDFJG0h0EchEMA4FBxf0DAkkwgEhPzeGdyzd2K57u5QjTgeP5acgnTfRog3oYXGn+SOO0z+SifkLsZMeRrZd2yU/z2pXJ1uHvlKNP/t7NEDKhfgSf0L9m9eMv+oQu/c4zwSBTyiHE8XPaDnVRJ/m0QVueT99Jd0nz0Mn6vFEf8AfjgTqojzKUxT+kpdIoDV1sBiPsa9QGOpLuIZCLYLrXrGoSAkJgNCCQi2BGAyDq41AE/F6DY+vQXKUIgeYIiGCaY6OcCgJmFu81KtH4/zlL705IkwiBVgiIYFqho7yQ3msQz96dCCIh0AoBEUwrdJQ3ehBQTwtBQARTCKyqVAgIARAQwYCCRAgIgUIQEMEUAqsqFQJCAAREMKDQa1H7QqCkCIhgSupYdUsI9AMCIph+8IJsEAIlRUAEU1LHqltCoB8QuCT0gxWyQQgIgVIioB1MKd2qTgmB/kBABNMffpAVQqCUCIhgSulWdaqKgJ69RkAE02sPqH0hUGIERDAldq66JgR6jYAIptceUPtCoMQIiGAKc64qFgJCoI5gzCyYScz6AwOGp1l/2GImO8yEgVlzDBivWakjGP6LZZLzQ/4rbr3CBGf1qm212z/jYFB8wXjNSh3BZDP1LgSEgBBogEDHSSKYjqGSohAQAnkREMHkRUz6QkAIdIyACKZjqKQoBIRAXgREMHkRk36vEVD7A4SACGaAnCVThcCgISCCGTSPyV4hMEAIiGAGyFkyVQgMGgIimHwek7YQEAI5EBDB5ABLqkJACORDQASTDy9pCwEhkAMBEUwOsKQqBMqMQBF9E8EUgarqFAJCICIggokw6CEEhEARCIhgikBVdQoBIRAREMFEGPToNQJqv5wIiGDK6Vf1Sgj0BQIimL5wg4wQAuVEQARTTr+qV0KgLxAQwYQQ+sITMkIIlBABEUwJnaouCYF+QUAE0y+ekB1CoIQIiGBK6FR1SQjUEOhxRATTYweoeSFQZgSGRTCfffZZGDduXPwrkISbNm3qCKMDBw6EmTNnxnJmFubNmxdOnjzZsOySJUtqemYWrrzyyqa6DStok3jkyJGObclWRX9vv/32aB92YWtWh37RP/LNLEybNi3Q/6xeN96xx6zxX9zDhrQN7HKbzKplGtmflilbfM2aNWXrUt/2JzfB4Jxjx46FVatWhdWrV8eO3XfffYEJG1+aPMi/6667AsJfqvvpp5/C1q1b48Rj0KfF0N2+fXtYvHhxTb744otw1VVXpWrDjtPee++9F6ZPnx527twZ5s6dG5YtWxZeffXVtnUymR999NHw4Ycfxr8AiV0LFiyIZJkWhlB4/+2338KJEyeIxr4XQTKff/557EOKF/ErrrgiPPnkk7Ftf3zwwQdDdB9//HHPHhXhwoULR0U/+6GTuQkGo998880wceLEuAP46KOPSArHjx+PYbMHE3rs2LG1AX/TTTcFyu7bty+sXLmyrhi6TJD58+cHl3vvvbdOZyQvP/zwQ3jjjTei/fRj6dKl4bbbbmtLkrT5zDPPxAlKOd6x6+WXX44EtWvXLpICJEy/aANSRL788stw+vTpABlFpS49IGOIkj44VoRTp06Nuz5w9qbQPXz4cMB/6Lhgn+t0NezDytjRgUEfmlZKk3ITDEecFImzZ88GiOPGG29Mk4fEmXTZgczkRJHdCiHCJGA38eCDD8ZdgU9a8roltJu1hcn/wAMPtGyC3QeD87LLLqvTu+eee+L77t27Y/jtt9/GMG2DOJN+y5YtMa9bjzFjxkSizNb39ddfh4ceeqguGeJeu3Zt3DVyzGUnV6fQ4IU+v/LKK5Gs0Mf/ZhaPyOzm0iLkM4HNqkcvdElDB7+m9bDD46jm/kWPsqSZNT5S0h5HcrNq+4wp6kaIUyfHPWwmblath7rRoX3GFnGzqo3EJcUhkJtg3BQGDM58//33wzfffNP2+MIE9rJpmJ107ITYEbC9ZzBMmjQpMDBCQf9j0DIYmYzZ40S2yXPnzmWT4rvvZpwo//zzz5iefUyePDkm+aSKLwU9IJLs0ef666+PpLNnz57w1FNPhTvuuKPtvRB9/vHHH+Pui+PVY489Fo/Gp06dCunRmEkMjuyYOAJz9OQI/Mgjj8QeUg/kzDhgx8pOkIWJBcrLosiREj1sZJEhDYFAXnvttXis5sg5ZcqUMGvWrACWlL/00ksD5L1///4AeXIMYhdM2vr166ki7txI4wUbEeKS4hAYNsEwONjucxRgtcTJrcxEn0GT1Tt06FCATLwsk5Ut/N69ewMDDQJ666234qBxnW6FECSThEHIhGSwtqr7mmuuidlOJPGl8oBsK0G4/PLLCQK7CiLZ+o4ePUpy+Nvf/hbDoh60C6Zuh7fDkYiJCjl8+umngZBJnPWJ6xPiDyfG5557LrD7Y2eyceNGsgO7IiJMYi6+naQpx90W2LKjgHhuueUWVMOMGTNiPfiY+igL8XDMY6eH3RAI9sUClQe7G3xEHjocPyvJ4eOPP46LG/XwzjijHtqnv6SdOXOGQNIDBIZNMLA/q5QTAKtbK/tfeOGFuApykcqARhjskAiDqVFZBtPmzZvj/ci7777bSKV5Wgc5DEBWQ1Y1BvP999/f8h4Ge9jpMGlYJWkCcmFFJs4FNqFPsmeffbZWHzslVnQmPpMNvaLkq6++Ck888UTL6rGRC2rw37ZtW0tdz2Rie5wJTF/oP2kbNmyI91Bm1aOHmQUWBvIOHjxIUBNwrL1UIpTl6FOJ1v4xNvAJCRAmBAR5mFXrv/rqq8kKLHAx8tcje3wlObsgkCa5OAhcMpJmGGQQAI7nONOqLgY0E5mBw+B4+umnw88//xyLcEkZI00er7/+etzNNMmOyWbVgWdWDdmux4w2DyYNRMOqxyBuN9k++eSTeMnLEYP7AlZwJinN3H333QQBAvnuu+8ioYINK/vvv/8e+8DqH5UKfICx29KqGVZ9Lrf5KthKr1ne+PHj67LwLwtPVrrV52y9vLMDrjNCL32FwCXdsGbOnDnxErBdXUxkViUGBpOAsz0DvN0A5HzNatmqfgZ3KrNnz26lPiTPbWi0AqbKEBJkRB/oC1t1dibcG6UrM5OXwY8eRwG26fTh+eefT6vrepydEjvC1JZWjdCfdn1uVp5daJq3bt269DXG0WEHEl9aPDg+Z7PZHaVl6VtWp1FaVkfvvUOgKwTD5GFQ5+kGZ2oGFefqduV+/fXX8OKLL7ZUg7xSccJoWSjJZCLwml2VSWsmlGGnxC6Fe6NmepAp91UcSTqd+M3qapfOb2KmT5/eTi3mYz/CnUhMyPFg8nM8mT17dizFFzje6WtM+OvB0bndF0bueNg9cif2V7EYsDtkl4xAzlzyYm/MrDyw4ZdffqnERtu/welvLoLBoUwoBgJxusldBCs4KznvCIOA4wO6vLtQhgHIeZtVnQGZnXCU46sRupSjfrbwkAfv3RDsh4B89aMtbOWHg6k96JlZ/FKRtsulJXk33HBD4PjDMTHNJw4G1E+9kCn3VexqyCtKaBNfNDoegSO4YxPt02eOqStWrIiXpKS1E/pBGwg7tnT3CUlBtHzZoc/gQ8juiF0SdfOFhxBbCF342gWBQMK04WXvvPNOVwlvv/12vG8Bc8YHwqJGWZTwCWF634KdpHlIHHsI2RlRBhx4lxSDQC6CcecwEBhMTC52L0wwH0RuJkThX1VIY7BRZtWqVWHRokUBgkknMzoIXx64HESX+mmz1e6AMnnluuuui587+YKEnUwWfpkL6aR10TYDP00zs/iLXCYLX1I4LmX7zgThnokVl9WZT6+swmk9RcS5P6IPWXtoa8KECQTx0zJ9ZncAztwXxYwOH/QLoQ787sVoE3LzS/B33nkn0HdfGPC/71a5vwKjtOyOHTsCHwy4y1u+fHlgZ0RfXIc7PL580S52c7z2n0dAFjfffHNU5QLerLooYCeJLGRmRjR+wYIYudDn8rnRGIyKenQFgVwEwyBiUHGvgEASDCDSU2t45/6B3YqneznCdOB4voeQCXUj1N9K18vkDamT+xPaIMTORgTAoCY/zWtXBlvABD3sJw4epBct9AvCa9QORIJPsIs+oZd3clGG8gjxbL+oDyzJpw367rbgd9Jd0jx0sM91sJO+kJ4K/iCPOtClDPn4h7RUGqWhi834BfsatYGOpHsI5CKY7jWrmgYXAVkuBDpHQATTOVajVtPvNXRfMWqHwLA7LoIZNnSjo6CZxZ/g01vuxdK7E9IkQqAVAiKYVugoL6T3GsSzdyeCSAi0QmDACKZVV5QnBIRAvyEgguk3j8geIVAiBEQwJXKmuiIE+g0BEUy/eUT2jFYEStlvEUwp3apOCYH+QEAE0x9+kBVCoJQIiGBK6VZ1Sgj0BwIimP7wQ6+tUPtCoBAERDCFwKpKhYAQAAERDChIhIAQKAQBEUwhsKpSISAEQKAfCAY7JEJACJQQARFMCZ2qLgmBfkFABNMvnpAdQqCECIhgSuhUdal/EBjtlohgRvsIUP+FQIEI1BGMmQUziVl/YIDfzfrDFjPZYSYMzJpjwHjNSh3B8F8sk5wf8l9x6xUmOKtXbavd/hkHg+ILxmtW6ggmm6n3wUZA1guBXiMggum1B9S+ECgxAiKYEjtXXRMCvUZABNNrD6h9IVBiBAojmBJjpq4JASHQIQIimA6BkpoQEAL5ERDB5MdMJYSAEOgQARFMh0BJTQjUEFCkYwREMB1DJUUhIAQ6QcDMamoimBoUiggBIdBtBEQw3UZU9QkBIVBDQARTg2JAIjJTCAwQAiKYAXKWTBUCg4aACGbQPCZ7hcAAISCCGSBnyVQhMGgI5COYQeud7BUCQqCnCIhgegq/GhcC5UZABFNu/6p3QqCnCIhgegq/Gu8fBGRJEQiIYIpnz08GAAAIdUlEQVRAVXUKASEQERDBRBj0EAJCoAgERDBFoKo6hYAQiAiIYCIMvX6ofSFQTgREMOX0q3olBPoCgRETzK5du+JfgyTspEevvPJKuPLKK2MZ4idPnhxSjLSZM2dGHXQ/++yzITpKGIoAPpg3b15YsmTJ0My/UtasWRPGjRsXsZ02bVo4cuTIXzn1Ab4BezMLxPFJvUb538Cq/L0stocjIhgG3ezZszu2ENLYunVr2LdvXzhx4kQg/sgjj9SVp8477rgjkhA6O3bsCC+99FLLSVNXwSh9gVzOnj0bli1b1hQBiBoCWrVqVfzrlWPGjAm33XZbAPO0UCd+SvXLGIdcjh07VsauXdQ+XRLC8Nt79dVX4wDtpAYctnbt2vD6668HBvZVV10VVqxYEbZs2RLI8zqo8/Dhw+GNN94I6Nx0003h7bffDgsWLGi62nrZ0RxOnDgx3HvvvU0hYKfy1FNPhblz5wZ0UVy6dClBAPMYqTzwRSd+qqiW9t+BAwcCRFzaDl7Ejg17B8NAZPLfcsstHZn77bffRr10ElD+iiuuCKyoMbPyoN6pU6dGcqm8xn8TJkyI4fr162OoR34Etm3bFgvdc889MfTHlClT6nY9nfrJyxOyA8JvHLk4nhH3YxgTlXz0XJjA6JpZ3KlyBPM8dmKUIR896kG8jk2bNoXbb789HvE4wtGelyVEj/JmFnXYjZFGHiRLW5TjnbLEEWwmDZ277rornD59Oi5qZqbdM8AMU4ZFMDjh+++/D08++WTHzbIqsh3PFhg/fnzcxZDO4MKxt956K681gYh42b59O4FkGAhs2LAhlrrxxhtj6A9fIMCetE78hF4qZ86cia/sRvERRwsWjYceeiiSV7pDgjQefPDBsHDhwnhMY3f61ltv1U1ijs6QAvW98MILgUWINiCBRx99NHz44YexLLsxdrakYwBlICbGy/nz58POnTvrjuHnzp0L7I4ZYxDNddddFzZu3BhJDlKiDnbXp06dIhoWL14c25k/f35816MzBMDeNYdFMDiDI4xX0mnIkacT3csuu6wTNekMA4FOfNCJTto0k5KdAmksDkxIjmFMfHaj3AuxKJEPoSxatKh2TGORYuF55513yI7p7FggAeohf+/evfFYzbjjWEfdKP/zn/8kCJAPEXa47G4ow/vEiRPjkRCigtggHifU5557LmAzdc2ZMyfuWCgj6S4CuQkG5mf1yTsIu2u2autXBLKLwwMPPBBNPX78eAzZIc2aNSseX8yqxxgu/SEUJyEUIRlCF3ZY6Fx77bWeFCAMVksnFHZpkJlZtV4zC+yOKHDw4EGCmjQav7RRU1CkKwjkIhh3AKzfldZVSekR+Pvf/z6kjxxdIIassBMaopwzwY812brZreSsSupdQCAXwbC1ZUUwu7BCcAbGjkmTJgXOv8QbCedxtqrZPNLYRpMOcXHe5hzPu4sT2+TJkz1JYU4EfCfhWHpxxxrsSevET+h1Knw6z+r+97//zSYFLm+HJDZI+PXXX4ekchTzxHXr1nm0FnI3k+13LVORQhHIRTCsDqw+qXDRhoWffvppvBQj3kimT58ek1NHe3z27NkxjwcrzZ49e+p+m7F7926ywowZM2I4II++MvPuu++O9jiWvDDxwNp9SFqnfkK3E/nPf/4Txo4dG+9W0IfAOMZwJ8K7C3oebxRyOc3iw2+isNt1qMfvYCBRjlsp4aD3wQcfBMoTl1xcBHIRDGdeVrpUrr/++mgxW2HyeWEA8Okv3dFAHOxUnn322UgenLeJk0Ye5RC/PPYvD5AQF4CQWze20LRRVgFT+ua7EuIuYAeGYMmkxEeOsWOOLr7AJ/gGHeokThp56LQS6sdn6BBCJh999BGvUSAI7lJuvvnm+FsTPhVz3/Lwww/HfNo8dOhQ/LKInTGx8uDO5MUXX4yXsfwQk3LcB7KD9oWHEDLjjoexhw4h90KUr1QT9u/fTxCwLUYqDyeodLcFmTmOne6uKlXpXwaBXASTKdvyFYK5/PLL63S+/PLL+BuGq6++Ov5Aj99gkJYqMRD49S4D28wCuxu+PPBFIdVTvB4BJhOTi1SOnWZWN4lIB0MmKb/zwAd8jmXFB3PyXfAJX2PQ4QtPIz+5bjbkZwf4zKzqu++++67uB4AsQuyAqRfyWb58eYCAWLSoizb5lEwcEkqJAPshSeyGWNDDVrefkE/c7JLAALLjWE056oNsuGQmzpEezEjj2E/afffdV/tcztcq6iAfQiNfkh+BERMMzuNCzQcIJuBoVqHsVpV0HIc+g+TNN9+s+0EdZREG4ebNm+NvEKjHvxKQJ2mMgPsBbF1Sn3gp9MAeHfzDzsbzPOzUT66fhkxofEb9hOkPK10Pu/j03EiHtFTQ9XKEWfuxlXQX+kO/qIN+ou95PqbIQ8hrlIY+uzV0yM+2Qf5ol077P2KC6bQh6QkBITD6EBDBjD6fF9JjP8ocPXq0kPpV6WAiIIIZTL/1ldXcZXCngVHcq5gZUYkQCCIYDYIRI8BdBvcVqYy40hYVKGtwEBDBDI6vZKkQGDgERDAD5zIZLAQGBwERzOD4SpYKgYFDQAST02VSFwJCoHMERDCdYyVNISAEciIggskJmNSFgBDoHAERTOdYSVMIlBuBAnongikAVFUpBIRAFQERTBUHPYWAECgAARFMAaCqSiEgBKoIiGCqOOjZawTUfikREMGU0q3qlBDoDwREMP3hB1khBEqJgAimlG5Vp4RAfyAggsEPEiEgBApBQARTCKyqVAgIARCoIxgzq/uTnmZ6N+sdBjjIrHftm6ltM2Fg1hkGjNes1Agm/a+RKX4+/kUD4SAcBn8MXFwfrly5MqRSI5gs8+hdCAgBITAcBB5//PHgIoIZDoIqIwSEQEcI/D8AAAD//6pfjrUAAAAGSURBVAMAEf/I1/vLdUgAAAAASUVORK5CYII=)\n",
        "\n",
        "___\n",
        "Sample Input 1:\n",
        "\n",
        "3.93\n",
        "\n",
        "78\n",
        "\n",
        "Sample Output 1:\n",
        "\n",
        "The student is eligible for a waiver of 50 percent.\n",
        "___\n",
        "Sample Input 2:\n",
        "\n",
        "3.79\n",
        "\n",
        "24\n",
        "\n",
        "Sample Output 2:\n",
        "\n",
        "The student is not eligible for a waiver\n"
      ],
      "metadata": {
        "id": "Q0055FwLoNNd"
      }
    },
    {
      "cell_type": "code",
      "source": [
        "cg=float(input(\"Enter the CGPA:\"))\n",
        "credit=int(input(\"Enter Credits completed:\"))\n",
        "if credit<30 or cg<3.80:\n",
        "  print(\"The student is not eligible for a waiver\")\n",
        "elif 3.80<=cg<=3.89:\n",
        "  print(\"The student is eligible for a waiver of 25 percent.\")\n",
        "elif 3.90<=cg<=3.94:\n",
        "  print(\"The student is eligible for a waiver of 50 percent.\")\n",
        "elif 3.95<=cg<=3.99:\n",
        "  print(\"The student is eligible for a waiver of 75 percent.\")\n",
        "else:\n",
        "  print(\"The student is eligible for a waiver of 100 percent.\")"
      ],
      "metadata": {
        "colab": {
          "base_uri": "https://localhost:8080/"
        },
        "id": "BDZPrCOHpdjd",
        "outputId": "7f112b4d-dd3a-40ef-e97e-ba798d2a23c0"
      },
      "execution_count": 17,
      "outputs": [
        {
          "output_type": "stream",
          "name": "stdout",
          "text": [
            "Enter the CGPA:3.79\n",
            "Enter Credits completed:24\n",
            "The student is not eligible for a waiver\n"
          ]
        }
      ]
    }
  ]
}